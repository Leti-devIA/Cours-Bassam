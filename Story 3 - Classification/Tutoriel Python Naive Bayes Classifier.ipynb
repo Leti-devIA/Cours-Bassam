{
 "cells": [
  {
   "cell_type": "code",
   "execution_count": 1,
   "id": "11cbaa8a",
   "metadata": {},
   "outputs": [],
   "source": [
    "# importing the libraries\n",
    "import numpy as np\n",
    "import matplotlib.pyplot as plt\n",
    "import pandas as pd\n",
    "import seaborn as sns"
   ]
  },
  {
   "cell_type": "markdown",
   "id": "289f842d",
   "metadata": {},
   "source": [
    "# Import du DataSet"
   ]
  },
  {
   "cell_type": "code",
   "execution_count": 25,
   "id": "afea5c1e",
   "metadata": {},
   "outputs": [],
   "source": [
    "dataset = pd.read_csv('NaiveBayes.csv')\n",
    "\n",
    "# Découpage du DataSet en entrées et sorties\n",
    "X = dataset.iloc[:, [0,1]].values # en X on a les données de l'age des salariés + salaire\n",
    "y = dataset.iloc[:, 2].values # Y c'est acheté oui ou non (0 ou 1)\n",
    "\n",
    "#print(y)"
   ]
  },
  {
   "cell_type": "markdown",
   "id": "75b53e20",
   "metadata": {},
   "source": [
    "# Fractionnement du DataSet"
   ]
  },
  {
   "cell_type": "code",
   "execution_count": 26,
   "id": "2997a099",
   "metadata": {
    "scrolled": true
   },
   "outputs": [],
   "source": [
    "from sklearn.model_selection import train_test_split\n",
    "\n",
    "# Définition de 25% aléatoire sont des données de test\n",
    "X_train, X_test, y_train, y_test =train_test_split(X,y,test_size= 0.25, random_state=0)\n",
    "\n",
    "#print(X_test, y_test)"
   ]
  },
  {
   "cell_type": "markdown",
   "id": "f9b94f3d",
   "metadata": {},
   "source": [
    "# Scale du DataSet"
   ]
  },
  {
   "cell_type": "code",
   "execution_count": 27,
   "id": "c4095b5b",
   "metadata": {},
   "outputs": [],
   "source": [
    "from sklearn.preprocessing import StandardScaler\n",
    "\n",
    "# scalling the input data\n",
    "sc_X = StandardScaler() \n",
    "X_train = sc_X.fit_transform(X_train)\n",
    "X_test = sc_X.fit_transform(X_test)"
   ]
  },
  {
   "cell_type": "markdown",
   "id": "94b6701f",
   "metadata": {},
   "source": [
    "# Entrainement du modèle avec Bernouilli"
   ]
  },
  {
   "cell_type": "code",
   "execution_count": 28,
   "id": "a31c0220",
   "metadata": {},
   "outputs": [],
   "source": [
    "from sklearn.naive_bayes import BernoulliNB\n",
    "\n",
    "# initializaing the NB\n",
    "classifer = BernoulliNB()\n",
    "\n",
    "# training the model\n",
    "classifer.fit(X_train, y_train)\n",
    "\n",
    "# testing the model\n",
    "y_pred = classifer.predict(X_test)\n",
    "\n",
    "#print(y_pred)"
   ]
  },
  {
   "cell_type": "markdown",
   "id": "31d5c7d9",
   "metadata": {},
   "source": [
    "# Accuracy"
   ]
  },
  {
   "cell_type": "code",
   "execution_count": 29,
   "id": "0d0b1b3d",
   "metadata": {},
   "outputs": [
    {
     "name": "stdout",
     "output_type": "stream",
     "text": [
      "0.8\n"
     ]
    }
   ],
   "source": [
    "from sklearn.metrics import accuracy_score\n",
    "\n",
    "# printing the accuracy of the model\n",
    "print(accuracy_score(y_pred, y_test)) \n",
    "\n",
    "# Accuracy de 80% avec entrainement du modèle avec le classificateur Bernoulli Naive Bayes"
   ]
  },
  {
   "cell_type": "markdown",
   "id": "76750880",
   "metadata": {},
   "source": [
    "# Gaussien"
   ]
  },
  {
   "cell_type": "code",
   "execution_count": 30,
   "id": "177d93fa",
   "metadata": {},
   "outputs": [],
   "source": [
    "# import Gaussian Naive Bayes classifier\n",
    "from sklearn.naive_bayes import GaussianNB\n",
    "\n",
    "# create a Gaussian Classifier\n",
    "classifer1 = GaussianNB()\n",
    "\n",
    "# training the model\n",
    "classifer1.fit(X_train, y_train)\n",
    "\n",
    "# testing the model\n",
    "y_pred1 = classifer1.predict(X_test)"
   ]
  },
  {
   "cell_type": "markdown",
   "id": "56c7a081",
   "metadata": {},
   "source": [
    "# Accuracy"
   ]
  },
  {
   "cell_type": "code",
   "execution_count": 31,
   "id": "6fa2b760",
   "metadata": {},
   "outputs": [
    {
     "name": "stdout",
     "output_type": "stream",
     "text": [
      "0.91\n"
     ]
    }
   ],
   "source": [
    "# importing accuracy score\n",
    "from sklearn.metrics import accuracy_score\n",
    "\n",
    "# printing the accuracy of the model\n",
    "print(accuracy_score(y_test,y_pred1))\n",
    "\n",
    "# Accuracy de 90% avec entrainement du modèle avec le classificateur bayésien naïf gaussien"
   ]
  },
  {
   "cell_type": "markdown",
   "id": "f228fee2",
   "metadata": {},
   "source": [
    "# Matrice de confusion"
   ]
  },
  {
   "cell_type": "code",
   "execution_count": 32,
   "id": "0b5398fb",
   "metadata": {},
   "outputs": [
    {
     "data": {
      "image/png": "[encoded data removed]",
      "text/plain": [
       "<Figure size 640x480 with 2 Axes>"
      ]
     },
     "metadata": {},
     "output_type": "display_data"
    }
   ],
   "source": [
    "# importing the required modules\n",
    "import seaborn as sns\n",
    "from sklearn.metrics import confusion_matrix\n",
    "\n",
    "# passing actual and predicted values\n",
    "cm = confusion_matrix(y_test, y_pred)\n",
    "\n",
    "# true write data values in each cell of the matrix\n",
    "sns.heatmap(cm, annot=True)\n",
    "plt.savefig('confusion.png')"
   ]
  },
  {
   "cell_type": "markdown",
   "id": "7559beed",
   "metadata": {},
   "source": [
    "# Rapport de classification"
   ]
  },
  {
   "cell_type": "code",
   "execution_count": 33,
   "id": "51300d49",
   "metadata": {},
   "outputs": [
    {
     "name": "stdout",
     "output_type": "stream",
     "text": [
      "              precision    recall  f1-score   support\n",
      "\n",
      "           0       0.82      0.91      0.86        68\n",
      "           1       0.75      0.56      0.64        32\n",
      "\n",
      "    accuracy                           0.80       100\n",
      "   macro avg       0.78      0.74      0.75       100\n",
      "weighted avg       0.79      0.80      0.79       100\n",
      "\n"
     ]
    }
   ],
   "source": [
    "# importing classification report\n",
    "from sklearn.metrics import classification_report\n",
    "\n",
    "# printing the report\n",
    "print(classification_report(y_test, y_pred))"
   ]
  },
  {
   "cell_type": "markdown",
   "id": "1615d869",
   "metadata": {},
   "source": [
    "# Évaluation du classificateur bayésien naïf gaussien"
   ]
  },
  {
   "cell_type": "code",
   "execution_count": 34,
   "id": "a81f78a7",
   "metadata": {},
   "outputs": [
    {
     "data": {
      "image/png": "[encoded data removed]",
      "text/plain": [
       "<Figure size 640x480 with 2 Axes>"
      ]
     },
     "metadata": {},
     "output_type": "display_data"
    }
   ],
   "source": [
    "# importing the required modules\n",
    "import seaborn as sns\n",
    "from sklearn.metrics import confusion_matrix\n",
    "\n",
    "# passing actual and predicted values\n",
    "cm = confusion_matrix(y_test, y_pred1)\n",
    "\n",
    "# true write data values in each cell of the matrix\n",
    "sns.heatmap(cm,annot=True)\n",
    "plt.savefig('confusion.png')"
   ]
  },
  {
   "cell_type": "markdown",
   "id": "7b8e2a66",
   "metadata": {},
   "source": [
    "# Rapport de classification"
   ]
  },
  {
   "cell_type": "code",
   "execution_count": 35,
   "id": "0397c8e1",
   "metadata": {},
   "outputs": [
    {
     "name": "stdout",
     "output_type": "stream",
     "text": [
      "              precision    recall  f1-score   support\n",
      "\n",
      "           0       0.93      0.94      0.93        68\n",
      "           1       0.87      0.84      0.86        32\n",
      "\n",
      "    accuracy                           0.91       100\n",
      "   macro avg       0.90      0.89      0.90       100\n",
      "weighted avg       0.91      0.91      0.91       100\n",
      "\n"
     ]
    }
   ],
   "source": [
    "# importing classification report\n",
    "from sklearn.metrics import classification_report\n",
    "\n",
    "# printing the report\n",
    "print(classification_report(y_test, y_pred1))"
   ]
  }
 ],
 "metadata": {
  "kernelspec": {
   "display_name": "Python 3 (ipykernel)",
   "language": "python",
   "name": "python3"
  },
  "language_info": {
   "codemirror_mode": {
    "name": "ipython",
    "version": 3
   },
   "file_extension": ".py",
   "mimetype": "text/x-python",
   "name": "python",
   "nbconvert_exporter": "python",
   "pygments_lexer": "ipython3",
   "version": "3.11.5"
  }
 },
 "nbformat": 4,
 "nbformat_minor": 5
}
