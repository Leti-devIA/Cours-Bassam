{
 "cells": [
  {
   "cell_type": "code",
   "execution_count": null,
   "id": "f9126169",
   "metadata": {},
   "outputs": [],
   "source": [
    "import csv\n",
    "\n",
    "data = [\"un\", \"deux\", \"trois\", \"quatre\"]\n",
    "\n",
    "with open('nombres.csv', 'w') as f:\n",
    "  writer = csv.writer(f)\n",
    "  writer.writerow(data)"
   ]
  }
 ],
 "metadata": {
  "kernelspec": {
   "display_name": "Python 3 (ipykernel)",
   "language": "python",
   "name": "python3"
  },
  "language_info": {
   "codemirror_mode": {
    "name": "ipython",
    "version": 3
   },
   "file_extension": ".py",
   "mimetype": "text/x-python",
   "name": "python",
   "nbconvert_exporter": "python",
   "pygments_lexer": "ipython3",
   "version": "3.11.5"
  }
 },
 "nbformat": 4,
 "nbformat_minor": 5
}
