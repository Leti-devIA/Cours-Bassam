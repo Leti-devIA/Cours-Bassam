{
 "cells": [
  {
   "cell_type": "code",
   "execution_count": 7,
   "metadata": {},
   "outputs": [],
   "source": [
    "from sklearn.datasets import load_digits\n",
    "from sklearn.model_selection import train_test_split\n",
    "\n",
    "digits = load_digits()\n",
    "X, y = digits.data, digits.target\n",
    "\n",
    "X_train, X_test, y_train, y_test = train_test_split(X, y, test_size=0.90)"
   ]
  },
  {
   "cell_type": "code",
   "execution_count": 11,
   "metadata": {},
   "outputs": [
    {
     "name": "stdout",
     "output_type": "stream",
     "text": [
      "Forêt aléatoire : 0.8936959208899876\n",
      "Extra Trees : 0.9147095179233622\n"
     ]
    }
   ],
   "source": [
    "from sklearn.ensemble import ExtraTreesClassifier\n",
    "from sklearn.ensemble import RandomForestClassifier\n",
    "import numpy as np\n",
    "\n",
    "# Random Forest\n",
    "clf = RandomForestClassifier(n_estimators=50)\n",
    "clf.fit(X_train, y_train)\n",
    "accuracy=clf.score(X_test,y_test)\n",
    "print(\"Forêt aléatoire : \" + str(accuracy))\n",
    "\n",
    "# Extra Trees\n",
    "clf = ExtraTreesClassifier(n_estimators=50)\n",
    "clf.fit(X_train, y_train)\n",
    "accuracy = clf.score(X_test,y_test)\n",
    "print(\"Extra Trees : \" + str(accuracy))"
   ]
  }
 ],
 "metadata": {
  "kernelspec": {
   "display_name": "nom_env",
   "language": "python",
   "name": "python3"
  },
  "language_info": {
   "codemirror_mode": {
    "name": "ipython",
    "version": 3
   },
   "file_extension": ".py",
   "mimetype": "text/x-python",
   "name": "python",
   "nbconvert_exporter": "python",
   "pygments_lexer": "ipython3",
   "version": "3.13.1"
  }
 },
 "nbformat": 4,
 "nbformat_minor": 2
}
