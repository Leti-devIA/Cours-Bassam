{
 "cells": [
  {
   "cell_type": "code",
   "execution_count": 14,
   "metadata": {},
   "outputs": [],
   "source": [
    "import numpy as np\n",
    "import pandas as pd\n",
    "from sklearn.ensemble import RandomForestClassifier\n",
    "from sklearn.model_selection import train_test_split"
   ]
  },
  {
   "cell_type": "code",
   "execution_count": null,
   "metadata": {},
   "outputs": [
    {
     "data": {
      "text/plain": [
       "type\n",
       "0    4898\n",
       "1    1599\n",
       "Name: count, dtype: int64"
      ]
     },
     "execution_count": 15,
     "metadata": {},
     "output_type": "execute_result"
    }
   ],
   "source": [
    "# Récupération du DataSet\n",
    "data = pd.read_csv(\"https://www.stat4decision.com/wine_data.csv\", index_col = 0)\n",
    "data[\"type\"].value_counts()"
   ]
  },
  {
   "cell_type": "code",
   "execution_count": null,
   "metadata": {},
   "outputs": [
    {
     "name": "stdout",
     "output_type": "stream",
     "text": [
      "<class 'pandas.core.frame.DataFrame'>\n",
      "Index: 6497 entries, 0 to 1598\n",
      "Data columns (total 13 columns):\n",
      " #   Column                Non-Null Count  Dtype  \n",
      "---  ------                --------------  -----  \n",
      " 0   fixed acidity         6497 non-null   float64\n",
      " 1   volatile acidity      6497 non-null   float64\n",
      " 2   citric acid           6497 non-null   float64\n",
      " 3   residual sugar        6497 non-null   float64\n",
      " 4   chlorides             6497 non-null   float64\n",
      " 5   free sulfur dioxide   6497 non-null   float64\n",
      " 6   total sulfur dioxide  6497 non-null   float64\n",
      " 7   density               6497 non-null   float64\n",
      " 8   pH                    6497 non-null   float64\n",
      " 9   sulphates             6497 non-null   float64\n",
      " 10  alcohol               6497 non-null   float64\n",
      " 11  quality               6497 non-null   int64  \n",
      " 12  type                  6497 non-null   int64  \n",
      "dtypes: float64(11), int64(2)\n",
      "memory usage: 710.6 KB\n"
     ]
    }
   ],
   "source": [
    "# Affichage des infos du DataSet\n",
    "data.info()"
   ]
  },
  {
   "cell_type": "code",
   "execution_count": 19,
   "metadata": {},
   "outputs": [
    {
     "data": {
      "text/html": [
       "<div>\n",
       "<style scoped>\n",
       "    .dataframe tbody tr th:only-of-type {\n",
       "        vertical-align: middle;\n",
       "    }\n",
       "\n",
       "    .dataframe tbody tr th {\n",
       "        vertical-align: top;\n",
       "    }\n",
       "\n",
       "    .dataframe thead th {\n",
       "        text-align: right;\n",
       "    }\n",
       "</style>\n",
       "<table border=\"1\" class=\"dataframe\">\n",
       "  <thead>\n",
       "    <tr style=\"text-align: right;\">\n",
       "      <th></th>\n",
       "      <th>importance</th>\n",
       "    </tr>\n",
       "  </thead>\n",
       "  <tbody>\n",
       "    <tr>\n",
       "      <th>total sulfur dioxide</th>\n",
       "      <td>0.302713</td>\n",
       "    </tr>\n",
       "    <tr>\n",
       "      <th>chlorides</th>\n",
       "      <td>0.243219</td>\n",
       "    </tr>\n",
       "    <tr>\n",
       "      <th>volatile acidity</th>\n",
       "      <td>0.122850</td>\n",
       "    </tr>\n",
       "    <tr>\n",
       "      <th>density</th>\n",
       "      <td>0.063578</td>\n",
       "    </tr>\n",
       "    <tr>\n",
       "      <th>sulphates</th>\n",
       "      <td>0.060698</td>\n",
       "    </tr>\n",
       "    <tr>\n",
       "      <th>free sulfur dioxide</th>\n",
       "      <td>0.053229</td>\n",
       "    </tr>\n",
       "    <tr>\n",
       "      <th>residual sugar</th>\n",
       "      <td>0.047365</td>\n",
       "    </tr>\n",
       "    <tr>\n",
       "      <th>fixed acidity</th>\n",
       "      <td>0.046046</td>\n",
       "    </tr>\n",
       "    <tr>\n",
       "      <th>pH</th>\n",
       "      <td>0.025619</td>\n",
       "    </tr>\n",
       "    <tr>\n",
       "      <th>citric acid</th>\n",
       "      <td>0.022539</td>\n",
       "    </tr>\n",
       "    <tr>\n",
       "      <th>alcohol</th>\n",
       "      <td>0.009477</td>\n",
       "    </tr>\n",
       "    <tr>\n",
       "      <th>quality</th>\n",
       "      <td>0.002667</td>\n",
       "    </tr>\n",
       "  </tbody>\n",
       "</table>\n",
       "</div>"
      ],
      "text/plain": [
       "                      importance\n",
       "total sulfur dioxide    0.302713\n",
       "chlorides               0.243219\n",
       "volatile acidity        0.122850\n",
       "density                 0.063578\n",
       "sulphates               0.060698\n",
       "free sulfur dioxide     0.053229\n",
       "residual sugar          0.047365\n",
       "fixed acidity           0.046046\n",
       "pH                      0.025619\n",
       "citric acid             0.022539\n",
       "alcohol                 0.009477\n",
       "quality                 0.002667"
      ]
     },
     "execution_count": 19,
     "metadata": {},
     "output_type": "execute_result"
    }
   ],
   "source": [
    "# Sélectionne la colonne \"type\" comme target\n",
    "y = data[\"type\"]\n",
    "\n",
    "# Supprime la colonne \"type\" pour obtenir les features\n",
    "x = data.drop(\"type\", axis=1)\n",
    "\n",
    "# Divise les données en ensembles d'entraînement et de test\n",
    "x_train, x_test, y_train, y_test = train_test_split(x, y, test_size=0.25, random_state=42)\n",
    "\n",
    "# Crée un modèle de Random Forest\n",
    "modele_rf = RandomForestClassifier(\n",
    "     n_estimators=100,  # Nombre d'arbres dans la forêt\n",
    "     criterion='gini',  # Critère de mesure de la qualité de la séparation\n",
    "     max_depth=None,  # Profondeur maximale des arbres (illimitée ici)\n",
    "     min_samples_split=2,  # Nombre minimum d'échantillons pour diviser un nœud\n",
    "     min_samples_leaf=1,  # Nombre minimum d'échantillons dans une feuille\n",
    "     min_weight_fraction_leaf=0.0,  # Fraction minimale de poids dans une feuille\n",
    "     max_features='log2',  # Nombre maximum de caractéristiques à considérer pour la meilleure séparation\n",
    "     max_leaf_nodes=None,  # Nombre maximum de nœuds feuilles (illimité ici)\n",
    "     min_impurity_decrease=0.0,  # Diminution minimale de l'impureté pour diviser un nœud\n",
    "     bootstrap=True,  # Utilise l'échantillonnage bootstrap\n",
    "     oob_score=False,  # Ne calcule pas le score hors du sac\n",
    "     n_jobs=None,  # Utilise un seul job (par défaut)\n",
    "     random_state=None,  # Pas de graine pour la reproductibilité\n",
    "     verbose=0,  # Pas de sortie détaillée\n",
    "     warm_start=False,  # Ne pas réutiliser les résultats précédents\n",
    "     class_weight=None,  # Pas de poids pour les classes\n",
    "     ccp_alpha=0.0,  # Coefficient pour la complexité de la prune\n",
    "     max_samples=None,  # Pas de limite sur le nombre d'échantillons\n",
    ")\n",
    "\n",
    "# Entraîne le modèle sur les données d'entraînement\n",
    "modele_rf.fit(x_train, y_train)\n",
    "\n",
    "# Crée un DataFrame des importances des caractéristiques et les trie par ordre décroissant\n",
    "pd.DataFrame(modele_rf.feature_importances_, \n",
    "             index=x_train.columns, \n",
    "             columns=[\"importance\"]).sort_values(\"importance\", ascending=False)"
   ]
  },
  {
   "cell_type": "code",
   "execution_count": 18,
   "metadata": {},
   "outputs": [
    {
     "name": "stdout",
     "output_type": "stream",
     "text": [
      "Le pourcentage de bien classés est de : 99.6923076923077 %\n"
     ]
    },
    {
     "data": {
      "text/html": [
       "<div>\n",
       "<style scoped>\n",
       "    .dataframe tbody tr th:only-of-type {\n",
       "        vertical-align: middle;\n",
       "    }\n",
       "\n",
       "    .dataframe tbody tr th {\n",
       "        vertical-align: top;\n",
       "    }\n",
       "\n",
       "    .dataframe thead th {\n",
       "        text-align: right;\n",
       "    }\n",
       "</style>\n",
       "<table border=\"1\" class=\"dataframe\">\n",
       "  <thead>\n",
       "    <tr style=\"text-align: right;\">\n",
       "      <th></th>\n",
       "      <th>blanc_predit</th>\n",
       "      <th>rouge_predit</th>\n",
       "    </tr>\n",
       "  </thead>\n",
       "  <tbody>\n",
       "    <tr>\n",
       "      <th>blanc_données</th>\n",
       "      <td>1239</td>\n",
       "      <td>0</td>\n",
       "    </tr>\n",
       "    <tr>\n",
       "      <th>rouge_données</th>\n",
       "      <td>5</td>\n",
       "      <td>381</td>\n",
       "    </tr>\n",
       "  </tbody>\n",
       "</table>\n",
       "</div>"
      ],
      "text/plain": [
       "               blanc_predit  rouge_predit\n",
       "blanc_données          1239             0\n",
       "rouge_données             5           381"
      ]
     },
     "execution_count": 18,
     "metadata": {},
     "output_type": "execute_result"
    }
   ],
   "source": [
    "from sklearn.metrics import accuracy_score, confusion_matrix\n",
    "\n",
    "# Calcule et affiche le pourcentage de bonnes classifications\n",
    "print(f\"Le pourcentage de bien classés est de : {accuracy_score(y_test, modele_rf.predict(x_test)) * 100} %\")\n",
    "\n",
    "# Crée un DataFrame de la matrice de confusion\n",
    "pd.DataFrame(confusion_matrix(y_test, modele_rf.predict(x_test)),\n",
    "             index=[\"blanc_données\", \"rouge_données\"],  # Noms des vraies classes\n",
    "             columns=[\"blanc_predit\", \"rouge_predit\"])  # Noms des classes prédites"
   ]
  }
 ],
 "metadata": {
  "kernelspec": {
   "display_name": "base",
   "language": "python",
   "name": "python3"
  },
  "language_info": {
   "codemirror_mode": {
    "name": "ipython",
    "version": 3
   },
   "file_extension": ".py",
   "mimetype": "text/x-python",
   "name": "python",
   "nbconvert_exporter": "python",
   "pygments_lexer": "ipython3",
   "version": "3.12.4"
  }
 },
 "nbformat": 4,
 "nbformat_minor": 2
}
