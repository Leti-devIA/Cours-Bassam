{
 "cells": [
  {
   "cell_type": "markdown",
   "metadata": {},
   "source": [
    "# Importation des bibliothèques necessaires"
   ]
  },
  {
   "cell_type": "code",
   "execution_count": 2,
   "metadata": {},
   "outputs": [],
   "source": [
    "import pandas as pd\n",
    "from sklearn.model_selection import train_test_split\n",
    "from sklearn.naive_bayes import GaussianNB\n",
    "from sklearn.naive_bayes import BernoulliNB\n",
    "from sklearn.metrics import accuracy_score"
   ]
  },
  {
   "cell_type": "markdown",
   "metadata": {},
   "source": [
    "# Entrainement et évaluation d'un modèle via Gaussian Naîve Bayes"
   ]
  },
  {
   "cell_type": "code",
   "execution_count": 18,
   "metadata": {},
   "outputs": [
    {
     "data": {
      "text/html": [
       "<div>\n",
       "<style scoped>\n",
       "    .dataframe tbody tr th:only-of-type {\n",
       "        vertical-align: middle;\n",
       "    }\n",
       "\n",
       "    .dataframe tbody tr th {\n",
       "        vertical-align: top;\n",
       "    }\n",
       "\n",
       "    .dataframe thead th {\n",
       "        text-align: right;\n",
       "    }\n",
       "</style>\n",
       "<table border=\"1\" class=\"dataframe\">\n",
       "  <thead>\n",
       "    <tr style=\"text-align: right;\">\n",
       "      <th></th>\n",
       "      <th>Pregnancies</th>\n",
       "      <th>Glucose</th>\n",
       "      <th>BloodPressure</th>\n",
       "      <th>SkinThickness</th>\n",
       "      <th>Insulin</th>\n",
       "      <th>BMI</th>\n",
       "      <th>DiabetesPedigreeFunction</th>\n",
       "      <th>Age</th>\n",
       "      <th>Outcome</th>\n",
       "    </tr>\n",
       "  </thead>\n",
       "  <tbody>\n",
       "    <tr>\n",
       "      <th>0</th>\n",
       "      <td>6</td>\n",
       "      <td>148</td>\n",
       "      <td>72</td>\n",
       "      <td>35</td>\n",
       "      <td>0</td>\n",
       "      <td>33.6</td>\n",
       "      <td>0.627</td>\n",
       "      <td>50</td>\n",
       "      <td>1</td>\n",
       "    </tr>\n",
       "    <tr>\n",
       "      <th>1</th>\n",
       "      <td>1</td>\n",
       "      <td>85</td>\n",
       "      <td>66</td>\n",
       "      <td>29</td>\n",
       "      <td>0</td>\n",
       "      <td>26.6</td>\n",
       "      <td>0.351</td>\n",
       "      <td>31</td>\n",
       "      <td>0</td>\n",
       "    </tr>\n",
       "    <tr>\n",
       "      <th>2</th>\n",
       "      <td>8</td>\n",
       "      <td>183</td>\n",
       "      <td>64</td>\n",
       "      <td>0</td>\n",
       "      <td>0</td>\n",
       "      <td>23.3</td>\n",
       "      <td>0.672</td>\n",
       "      <td>32</td>\n",
       "      <td>1</td>\n",
       "    </tr>\n",
       "    <tr>\n",
       "      <th>3</th>\n",
       "      <td>1</td>\n",
       "      <td>89</td>\n",
       "      <td>66</td>\n",
       "      <td>23</td>\n",
       "      <td>94</td>\n",
       "      <td>28.1</td>\n",
       "      <td>0.167</td>\n",
       "      <td>21</td>\n",
       "      <td>0</td>\n",
       "    </tr>\n",
       "    <tr>\n",
       "      <th>4</th>\n",
       "      <td>0</td>\n",
       "      <td>137</td>\n",
       "      <td>40</td>\n",
       "      <td>35</td>\n",
       "      <td>168</td>\n",
       "      <td>43.1</td>\n",
       "      <td>2.288</td>\n",
       "      <td>33</td>\n",
       "      <td>1</td>\n",
       "    </tr>\n",
       "  </tbody>\n",
       "</table>\n",
       "</div>"
      ],
      "text/plain": [
       "   Pregnancies  Glucose  BloodPressure  SkinThickness  Insulin   BMI  \\\n",
       "0            6      148             72             35        0  33.6   \n",
       "1            1       85             66             29        0  26.6   \n",
       "2            8      183             64              0        0  23.3   \n",
       "3            1       89             66             23       94  28.1   \n",
       "4            0      137             40             35      168  43.1   \n",
       "\n",
       "   DiabetesPedigreeFunction  Age  Outcome  \n",
       "0                     0.627   50        1  \n",
       "1                     0.351   31        0  \n",
       "2                     0.672   32        1  \n",
       "3                     0.167   21        0  \n",
       "4                     2.288   33        1  "
      ]
     },
     "execution_count": 18,
     "metadata": {},
     "output_type": "execute_result"
    }
   ],
   "source": [
    "df1 = pd.read_csv( 'diabetes.csv')\n",
    "df1.head() # Affichage des 5 premières données du fichier"
   ]
  },
  {
   "cell_type": "code",
   "execution_count": 17,
   "metadata": {},
   "outputs": [
    {
     "name": "stdout",
     "output_type": "stream",
     "text": [
      "[0 0 0 0 0 0 0 0 0 1 1 0 0 0 0 0 1 1 0 1 0 0 0 0 0 0 1 0 0 0 0 0 1 1 0 1 0\n",
      " 1 0 0 1 1 0 0 0 1 0 1 0 0 0 0 0 0 1 0 1 0 1 0 0 0 0 0 0 0 1 0 0 1 1 0 0 1\n",
      " 0 1 0 0 0 0 0 0 1 0 0 1 0 1 0 0 1 0 0 0 1 1 0 0 0 1 0 0 0 0 1 0 0 0 0 0 0\n",
      " 1 1 0 0 0 0 0 0 0 0 0 0 1 0 1 0 0 0 0 0 0 0 0 1 0 1 0 0 0 1 0 0 0 0 0 0 0\n",
      " 0 1 0 1 1 0]\n",
      "75.32467532467533\n"
     ]
    }
   ],
   "source": [
    "# Sélection des colonnes 'Glucose' et 'BloodPressure' comme caractéristiques (features) du modèle\n",
    "a = df1['Glucose']  # Niveau de glucose\n",
    "b = df1['BloodPressure']  # Tension artérielle\n",
    "\n",
    "# Combinaison des deux colonnes dans une liste de tuples (une paire par ligne du DataFrame)\n",
    "x = list(zip(a, b))  \n",
    "\n",
    "# Définition de la variable cible (labels), ici 'Outcome', qui indique le résultat à prédire\n",
    "y = df1['Outcome'] \n",
    "\n",
    "# Fractionnement du jeu de données en deux parties : entraînement (train) et test\n",
    "# x_train, y_train : données utilisées pour entraîner le modèle\n",
    "# x_test, y_test : données utilisées pour évaluer les performances du modèle\n",
    "x_train, x_test, y_train, y_test = train_test_split(x, y, test_size=0.20)  # 20 % des données réservées pour les tests\n",
    "\n",
    "# Instanciation du modèle Naïve Bayes Gaussien\n",
    "model_Gaussian = GaussianNB()\n",
    "\n",
    "# Entraînement du modèle sur les données d'entraînement\n",
    "model_Gaussian.fit(x_train, y_train)\n",
    "\n",
    "# Prédiction des étiquettes (outcomes) pour les données de test\n",
    "prediction = model_Gaussian.predict(x_test) \n",
    "\n",
    "# Affichage des prédictions pour chaque observation dans le jeu de test\n",
    "print(prediction)\n",
    "\n",
    "# Évaluation du modèle : calcul de la précision (accuracy)\n",
    "# La précision est le pourcentage de prédictions correctes parmi toutes les prédictions\n",
    "precision = accuracy_score(y_test, prediction) * 100  # Convertir en pourcentage\n",
    "print(precision)  # Afficher la précision"
   ]
  },
  {
   "cell_type": "markdown",
   "metadata": {},
   "source": [
    "# Entrainement et évaluation d'un modèle via Bernoulli Naîve Bayes"
   ]
  },
  {
   "cell_type": "code",
   "execution_count": 4,
   "metadata": {},
   "outputs": [
    {
     "name": "stdout",
     "output_type": "stream",
     "text": [
      "   Taille  Poids  Pointure   Sexe\n",
      "0   173.8   55.8        39  Homme\n",
      "1   164.1   80.4        38  Femme\n",
      "2   173.5   68.3        37  Femme\n",
      "3   172.3   73.3        37  Femme\n",
      "4   182.6   66.4        40  Homme\n"
     ]
    }
   ],
   "source": [
    "df2 = pd.read_excel('personne.xlsx')\n",
    "print(df2.head())"
   ]
  },
  {
   "cell_type": "code",
   "execution_count": 11,
   "metadata": {},
   "outputs": [
    {
     "name": "stdout",
     "output_type": "stream",
     "text": [
      "['Femme' 'Femme' 'Femme' 'Femme' 'Femme' 'Femme' 'Femme' 'Femme' 'Femme'\n",
      " 'Femme' 'Femme' 'Femme' 'Femme' 'Femme' 'Femme' 'Femme' 'Femme' 'Femme'\n",
      " 'Femme' 'Femme']\n",
      "55.00000000000001\n"
     ]
    }
   ],
   "source": [
    "# On sélectionne les caractéristiques (features) à partir du DataFrame : 'Taille', 'Poids' et 'Pointure'\n",
    "# Ces colonnes sont utilisées pour entraîner le modèle.\n",
    "x = df2[['Taille', 'Poids', 'Pointure']]  # Variables indépendantes (features)\n",
    "\n",
    "# La colonne 'Sexe' est la cible (label) que l'on souhaite prédire, donc elle est séparée de x.\n",
    "y = df2['Sexe']  # Variable dépendante (target)\n",
    "\n",
    "# Fractionnement du jeu de données en deux parties : \n",
    "# On garde 80 % des données pour l'entraînement et 20 % pour les tests.\n",
    "x_train, x_test, y_train, y_test = train_test_split(x, y, test_size=0.20)\n",
    "\n",
    "# Instanciation du modèle Naïve Bayes de type Bernoulli\n",
    "model_Bernoulli = BernoulliNB()\n",
    "\n",
    "# Entraînement du modèle avec les données d'entraînement\n",
    "# Ici, le modèle apprend à relier les caractéristiques ('Taille', 'Poids', 'Pointure') avec la cible ('Sexe')\n",
    "model_Bernoulli.fit(x_train, y_train)\n",
    "\n",
    "# Prédiction des valeurs de la variable cible sur le jeu de test\n",
    "# Le modèle prédit 'Sexe' en fonction des valeurs des caractéristiques dans `x_test`\n",
    "prediction = model_Bernoulli.predict(x_test)\n",
    "\n",
    "# Affichage des prédictions obtenues pour le jeu de test\n",
    "# Ces valeurs montrent la classe prédite par le modèle pour chaque observation de `x_test`\n",
    "print(prediction)\n",
    "\n",
    "# Évaluation du modèle en calculant sa précision (accuracy)\n",
    "# La précision mesure le pourcentage de prédictions correctes parmi celles faites sur le jeu de test.\n",
    "precision = accuracy_score(y_test, prediction) * 100  # Convertir en pourcentage\n",
    "print(precision)  # Affichage de la précision du modèle\n"
   ]
  },
  {
   "cell_type": "markdown",
   "metadata": {},
   "source": [
    "# Exercice 1 : Appliquez le modèle Gaussian Naîve Bayes sur les données des personnes"
   ]
  },
  {
   "cell_type": "code",
   "execution_count": 16,
   "metadata": {},
   "outputs": [
    {
     "name": "stdout",
     "output_type": "stream",
     "text": [
      "['Femme' 'Femme' 'Femme' 'Femme' 'Femme' 'Homme' 'Femme' 'Femme' 'Femme'\n",
      " 'Homme' 'Femme' 'Femme' 'Femme' 'Femme' 'Femme' 'Femme' 'Femme' 'Femme'\n",
      " 'Homme' 'Femme']\n",
      "55.00000000000001\n"
     ]
    }
   ],
   "source": [
    "x = df2[['Taille', 'Poids', 'Pointure']]  # Variables indépendantes (features)\n",
    "y = df2['Sexe']  # Variable dépendante (target)\n",
    "\n",
    "# Fractionner le jeu de données en données d'entraînement (80%) et données de test (20%)\n",
    "x_train, x_test, y_train, y_test = train_test_split(x, y, test_size=0.20)\n",
    "\n",
    "# Instanciation du modèle Naïve Bayes Gaussien\n",
    "model_Gaussian = GaussianNB()\n",
    "\n",
    "# Entraînement du modèle sur les données d'entraînement\n",
    "model_Gaussian.fit(x_train, y_train)\n",
    "\n",
    "# Prédiction sur les données de test\n",
    "prediction = model_Gaussian.predict(x_test)\n",
    "\n",
    "# Affichage des prédictions\n",
    "print(prediction)\n",
    "\n",
    "# Calcul de la précision du modèle et affichage en pourcentage\n",
    "precision = accuracy_score(y_test, prediction) * 100\n",
    "print(precision)"
   ]
  },
  {
   "cell_type": "markdown",
   "metadata": {},
   "source": [
    "# Exercice 2 : Appliquez le Gaussian Naîve Bayes sur l’ensemble des données load_breast_cancer de sklearn"
   ]
  },
  {
   "cell_type": "code",
   "execution_count": 20,
   "metadata": {},
   "outputs": [
    {
     "name": "stdout",
     "output_type": "stream",
     "text": [
      "[1 0 0 1 1 0 0 0 1 1 1 0 1 0 1 0 1 1 1 0 1 1 0 1 1 1 1 1 1 0 1 1 1 1 1 1 0\n",
      " 1 0 1 1 0 1 1 1 1 1 1 1 1 0 0 1 1 1 1 1 0 0 1 1 0 0 1 1 1 0 0 1 1 0 0 1 0\n",
      " 1 1 1 1 1 1 0 1 1 0 0 0 0 0 1 1 1 1 1 1 1 1 0 0 1 0 0 1 0 0 1 1 1 0 1 1 0\n",
      " 1 1 0 0 0 1 1 1 0 0 1 1 0 1 0 0 1 1 0 0 0 1 1 1 0 1 1 0 0 1 0 1 1 0 1 0 0\n",
      " 1 1 1 1 1 1 1 0 0 1 1 1 1 1 1 1 1 1 1 1 1 0 1 1 1 0 1 1 0 1 1 1 1 1 1 0 0\n",
      " 0 1 1 0 1 0 1 1 1 1 0 1 1 0 1 1 1 0 1 0 0 1 1 1 1 1 1 1 1 0 1 1 1 1 1 0 1\n",
      " 0 0 1 1 0 1]\n",
      "95.17543859649122\n"
     ]
    }
   ],
   "source": [
    "# Importation du jeu de données \"Breast Cancer\" de sklearn, qui contient des informations sur des caractéristiques de tumeurs et leur classification\n",
    "from sklearn.datasets import load_breast_cancer\n",
    "df = load_breast_cancer()  # Chargement du jeu de données dans la variable df\n",
    "\n",
    "x = df['data']  # Les données (caractéristiques) qui servent à prédire la cible\n",
    "y = df['target']  # La cible (0 pour maligne, 1 pour bénigne)\n",
    "\n",
    "# Fractionnement des données en ensemble d'entraînement (60%) et de test (40%)\n",
    "x_train, x_test, y_train, y_test = train_test_split(x, y, test_size=0.40, random_state=42)\n",
    "\n",
    "# Instanciation du modèle Naïve Bayes Gaussien\n",
    "model_Gaussian = GaussianNB() \n",
    "\n",
    "# Entraînement du modèle avec les données d'entraînement\n",
    "model_Gaussian.fit(x_train, y_train)\n",
    "\n",
    "# Prédiction des labels sur le jeu de données de test\n",
    "prediction = model_Gaussian.predict(x_test)\n",
    "\n",
    "# Affichage des prédictions faites par le modèle\n",
    "print(prediction)\n",
    "\n",
    "# Évaluation du modèle en calculant la précision (accuracy), c'est-à-dire le pourcentage de prédictions correctes\n",
    "precision = accuracy_score(y_test, prediction) * 100  # Précision en pourcentage\n",
    "print(precision)  # Affichage de la précision\n"
   ]
  }
 ],
 "metadata": {
  "kernelspec": {
   "display_name": "myclassenv",
   "language": "python",
   "name": "python3"
  },
  "language_info": {
   "codemirror_mode": {
    "name": "ipython",
    "version": 3
   },
   "file_extension": ".py",
   "mimetype": "text/x-python",
   "name": "python",
   "nbconvert_exporter": "python",
   "pygments_lexer": "ipython3",
   "version": "3.12.5"
  }
 },
 "nbformat": 4,
 "nbformat_minor": 2
}
