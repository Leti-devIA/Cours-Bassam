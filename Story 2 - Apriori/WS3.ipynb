{
 "cells": [
  {
   "cell_type": "code",
   "execution_count": 1,
   "id": "a9290773",
   "metadata": {},
   "outputs": [
    {
     "name": "stdout",
     "output_type": "stream",
     "text": [
      "Defaulting to user installation because normal site-packages is not writeable\n",
      "Collecting fpgrowth_py\n",
      "  Obtaining dependency information for fpgrowth_py from https://files.pythonhosted.org/packages/18/51/e0cc561ab4a1079c1fad85a43bfa1a95fbe1f4f27c866d12b4d79f95b1ac/fpgrowth_py-1.0.0-py3-none-any.whl.metadata\n",
      "  Downloading fpgrowth_py-1.0.0-py3-none-any.whl.metadata (2.3 kB)\n",
      "Downloading fpgrowth_py-1.0.0-py3-none-any.whl (5.6 kB)\n",
      "Installing collected packages: fpgrowth_py\n",
      "Successfully installed fpgrowth_py-1.0.0\n"
     ]
    }
   ],
   "source": [
    "!pip install fpgrowth_py"
   ]
  },
  {
   "cell_type": "code",
   "execution_count": 1,
   "id": "315a6b85",
   "metadata": {},
   "outputs": [],
   "source": [
    "from fpgrowth_py.fpgrowth import *\n",
    "from fpgrowth_py.utils import *"
   ]
  },
  {
   "cell_type": "code",
   "execution_count": 2,
   "id": "baeebafb",
   "metadata": {},
   "outputs": [
    {
     "name": "stdout",
     "output_type": "stream",
     "text": [
      "[['8585', '948', '1125', '1289', '1544', '1651'], ['656', '783', '1017', '1273', '1318', '1429', '1516'], ['112', '1034'], ['647', '704', '929', '1040', '1094', '1182', '1194', '1214', '1250'], ['11', '89', '870', '1094', '1605', '1940']]\n",
      "[1, 1, 1, 1, 1]\n"
     ]
    }
   ],
   "source": [
    "from csv import reader\n",
    "\n",
    "def getFromFile(fname):\n",
    "    itemSetList = []\n",
    "    with open(fname, 'r') as csvfile:\n",
    "        csvreader = reader(csvfile)\n",
    "        for row in csvreader:\n",
    "            # Chaque ligne dans le CSV est une transaction, on transforme en liste\n",
    "            itemSetList.append(row)  # Chaque ligne est une liste d'articles\n",
    "    \n",
    "    # Calculer la fréquence de chaque item (facultatif selon l'algorithme)\n",
    "    frequency = getFrequencyFromList(itemSetList)\n",
    "    return itemSetList, frequency\n",
    "\n",
    "\n",
    "# Lire les données depuis le fichier CSV\n",
    "itemSetList, frequency = getFromFile('C:\\\\Users\\\\laetitia.monnier\\\\Documents\\\\Docs Léti\\\\Bassam\\\\data.csv')\n",
    "\n",
    "print(itemSetList)\n",
    "print(frequency)"
   ]
  },
  {
   "cell_type": "code",
   "execution_count": 17,
   "id": "cb2fab7f",
   "metadata": {},
   "outputs": [
    {
     "data": {
      "text/plain": [
       "([{'Tea Powder'},\n",
       "  {'Lassi'},\n",
       "  {'Panner'},\n",
       "  {'Cheese'},\n",
       "  {'Butter'},\n",
       "  {'Sugar'},\n",
       "  {'Sweet'},\n",
       "  {'Bread'},\n",
       "  {'Yougurt'},\n",
       "  {'Coffee Powder'},\n",
       "  {'Ghee'},\n",
       "  {'Milk'}],\n",
       " [])"
      ]
     },
     "execution_count": 17,
     "metadata": {},
     "output_type": "execute_result"
    }
   ],
   "source": [
    "from collections import defaultdict, OrderedDict\n",
    "from csv import reader\n",
    "from itertools import chain, combinations\n",
    "from optparse import OptionParser\n",
    "from fpgrowth_py.utils import *\n",
    "\n",
    "def fpgrowth(itemSetList, minSupRatio, minConf):\n",
    "    frequency = getFrequencyFromList(itemSetList)\n",
    "    minSup = len(itemSetList) * minSupRatio\n",
    "    fpTree, headerTable = constructTree(itemSetList, frequency, minSup)\n",
    "    if(fpTree == None):\n",
    "        print('No frequent item set')\n",
    "    else:\n",
    "        freqItems = []\n",
    "        mineTree(headerTable, minSup, set(), freqItems)\n",
    "        rules = associationRule(freqItems, itemSetList, minConf)\n",
    "        return freqItems, rules\n",
    "\n",
    "def fpgrowthFromFile(fname, minSupRatio, minConf):\n",
    "    itemSetList, frequency = getFromFile(fname)\n",
    "    minSup = len(itemSetList) * minSupRatio\n",
    "    fpTree, headerTable = constructTree(itemSetList, frequency, minSup)\n",
    "    if(fpTree == None):\n",
    "        print('No frequent item set')\n",
    "    else:\n",
    "        freqItems = []\n",
    "        mineTree(headerTable, minSup, set(), freqItems)\n",
    "        rules = associationRule(freqItems, itemSetList, minConf)\n",
    "        return freqItems, rules\n",
    "\n",
    "\n",
    "\n",
    "# if __name__ == \"__main__\":\n",
    "#     optparser = OptionParser()\n",
    "#     optparser.add_option('-f', '--data.csv',\n",
    "#                          dest='inputFile',\n",
    "#                          help='CSV filename',\n",
    "#                          default=None)\n",
    "#     optparser.add_option('-s', '--minSupport',\n",
    "#                          dest='minSup',\n",
    "#                          help='Min support (float)',\n",
    "#                          default=0.5,\n",
    "#                          type='float')\n",
    "#     optparser.add_option('-c', '--minConfidence',\n",
    "#                          dest='minConf',\n",
    "#                          help='Min confidence (float)',\n",
    "#                          default=0.5,\n",
    "#                          type='float')\n",
    "\n",
    "#     (options, args) = optparser.parse_args()\n",
    "\n",
    "#     freqItemSet, rules = fpgrowthFromFile(options.inputFile, options.minSup, options.minConf)\n",
    "\n",
    "\n",
    "fpgrowthFromFile('kaggle.csv', 0.25, 0.25)\n"
   ]
  },
  {
   "cell_type": "code",
   "execution_count": 24,
   "id": "77d20609",
   "metadata": {},
   "outputs": [
    {
     "ename": "TypeError",
     "evalue": "'int' object is not subscriptable",
     "output_type": "error",
     "traceback": [
      "\u001b[1;31m---------------------------------------------------------------------------\u001b[0m",
      "\u001b[1;31mTypeError\u001b[0m                                 Traceback (most recent call last)",
      "Cell \u001b[1;32mIn[24], line 54\u001b[0m\n\u001b[0;32m     50\u001b[0m             currentNode \u001b[38;5;241m=\u001b[39m currentNode\u001b[38;5;241m.\u001b[39mnext\n\u001b[0;32m     51\u001b[0m         currentNode\u001b[38;5;241m.\u001b[39mnext \u001b[38;5;241m=\u001b[39m targetNode\n\u001b[1;32m---> 54\u001b[0m constructTree(\u001b[38;5;124m'\u001b[39m\u001b[38;5;124mkaggle.csv\u001b[39m\u001b[38;5;124m'\u001b[39m, \u001b[38;5;241m1\u001b[39m, \u001b[38;5;241m0.25\u001b[39m)\n",
      "Cell \u001b[1;32mIn[24], line 6\u001b[0m, in \u001b[0;36mconstructTree\u001b[1;34m(itemSetList, frequency, minSup)\u001b[0m\n\u001b[0;32m      4\u001b[0m \u001b[38;5;28;01mfor\u001b[39;00m idx, itemSet \u001b[38;5;129;01min\u001b[39;00m \u001b[38;5;28menumerate\u001b[39m(itemSetList):\n\u001b[0;32m      5\u001b[0m     \u001b[38;5;28;01mfor\u001b[39;00m item \u001b[38;5;129;01min\u001b[39;00m itemSet:\n\u001b[1;32m----> 6\u001b[0m         headerTable[item] \u001b[38;5;241m+\u001b[39m\u001b[38;5;241m=\u001b[39m frequency[idx]\n\u001b[0;32m      8\u001b[0m \u001b[38;5;66;03m# Deleting items below minSup\u001b[39;00m\n\u001b[0;32m      9\u001b[0m headerTable \u001b[38;5;241m=\u001b[39m \u001b[38;5;28mdict\u001b[39m((item, sup) \u001b[38;5;28;01mfor\u001b[39;00m item, sup \u001b[38;5;129;01min\u001b[39;00m headerTable\u001b[38;5;241m.\u001b[39mitems() \u001b[38;5;28;01mif\u001b[39;00m sup \u001b[38;5;241m>\u001b[39m\u001b[38;5;241m=\u001b[39m minSup)\n",
      "\u001b[1;31mTypeError\u001b[0m: 'int' object is not subscriptable"
     ]
    }
   ],
   "source": [
    "def constructTree(itemSetList, frequency, minSup):\n",
    "    headerTable = defaultdict(int)\n",
    "    # Counting frequency and create header table\n",
    "    for idx, itemSet in enumerate(itemSetList):\n",
    "        for item in itemSet:\n",
    "            headerTable[item] += frequency[idx]\n",
    "\n",
    "    # Deleting items below minSup\n",
    "    headerTable = dict((item, sup) for item, sup in headerTable.items() if sup >= minSup)\n",
    "    if(len(headerTable) == 0):\n",
    "        return None, None\n",
    "\n",
    "    # HeaderTable column [Item: [frequency, headNode]]\n",
    "    for item in headerTable:\n",
    "        headerTable[item] = [headerTable[item], None]\n",
    "\n",
    "    # Init Null head node\n",
    "    fpTree = Node('Null', 1, None)\n",
    "    # Update FP tree for each cleaned and sorted itemSet\n",
    "    for idx, itemSet in enumerate(itemSetList):\n",
    "        itemSet = [item for item in itemSet if item in headerTable]\n",
    "        itemSet.sort(key=lambda item: headerTable[item][0], reverse=True)\n",
    "        # Traverse from root to leaf, update tree with given item\n",
    "        currentNode = fpTree\n",
    "        for item in itemSet:\n",
    "            currentNode = updateTree(item, currentNode, headerTable, frequency[idx])\n",
    "\n",
    "    return fpTree, headerTable\n",
    "\n",
    "def updateTree(item, treeNode, headerTable, frequency):\n",
    "    if item in treeNode.children:\n",
    "        # If the item already exists, increment the count\n",
    "        treeNode.children[item].increment(frequency)\n",
    "    else:\n",
    "        # Create a new branch\n",
    "        newItemNode = Node(item, frequency, treeNode)\n",
    "        treeNode.children[item] = newItemNode\n",
    "        # Link the new branch to header table\n",
    "        updateHeaderTable(item, newItemNode, headerTable)\n",
    "\n",
    "    return treeNode.children[item]\n",
    "\n",
    "def updateHeaderTable(item, targetNode, headerTable):\n",
    "    if(headerTable[item][1] == None):\n",
    "        headerTable[item][1] = targetNode\n",
    "    else:\n",
    "        currentNode = headerTable[item][1]\n",
    "        # Traverse to the last node then link it to the target\n",
    "        while currentNode.next != None:\n",
    "            currentNode = currentNode.next\n",
    "        currentNode.next = targetNode\n",
    "        \n",
    "        \n",
    "constructTree('kaggle.csv', 1, 0.25)"
   ]
  }
 ],
 "metadata": {
  "kernelspec": {
   "display_name": "Python 3 (ipykernel)",
   "language": "python",
   "name": "python3"
  },
  "language_info": {
   "codemirror_mode": {
    "name": "ipython",
    "version": 3
   },
   "file_extension": ".py",
   "mimetype": "text/x-python",
   "name": "python",
   "nbconvert_exporter": "python",
   "pygments_lexer": "ipython3",
   "version": "3.11.5"
  }
 },
 "nbformat": 4,
 "nbformat_minor": 5
}
